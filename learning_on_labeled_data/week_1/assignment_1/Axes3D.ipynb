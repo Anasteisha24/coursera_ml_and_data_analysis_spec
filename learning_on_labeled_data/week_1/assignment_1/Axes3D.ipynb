{
 "cells": [
  {
   "cell_type": "code",
   "execution_count": 1,
   "metadata": {
    "collapsed": false
   },
   "outputs": [
    {
     "name": "stdout",
     "output_type": "stream",
     "text": [
      "Populating the interactive namespace from numpy and matplotlib\n"
     ]
    }
   ],
   "source": [
    "from __future__ import (absolute_import, division,\n",
    "                        print_function, unicode_literals)\n",
    "# отключим предупреждения Anaconda\n",
    "import warnings\n",
    "warnings.simplefilter('ignore')\n",
    "import pandas as pd\n",
    "import numpy as np\n",
    "%pylab inline\n",
    "import seaborn as sns\n",
    "import matplotlib.pyplot as plt\n",
    "from scipy.optimize import minimize_scalar\n",
    "\n",
    "# import matplotlib.pyplot as plt\n",
    "# import numpy as np\n",
    "# # from mpl_toolkits.mplot3d import Axes3D\n",
    "# import pandas as pd"
   ]
  },
  {
   "cell_type": "code",
   "execution_count": 2,
   "metadata": {
    "collapsed": false
   },
   "outputs": [],
   "source": [
    "data = pd.read_csv('weights_heights.csv', index_col='Index')"
   ]
  },
  {
   "cell_type": "code",
   "execution_count": null,
   "metadata": {
    "collapsed": true
   },
   "outputs": [],
   "source": [
    "# from mpl_toolkits.mplot3d import Axes3D"
   ]
  },
  {
   "cell_type": "code",
   "execution_count": 4,
   "metadata": {
    "collapsed": false
   },
   "outputs": [
    {
     "data": {
      "text/plain": [
       "array([[  1.62237561e+10,   1.61836116e+10,   1.61435171e+10, ...,\n",
       "          9.25029293e+09,   9.22004842e+09,   9.18985391e+09],\n",
       "       [  1.49643845e+10,   1.49258285e+10,   1.48873225e+10, ...,\n",
       "          8.30544292e+09,   8.27678690e+09,   8.24818088e+09],\n",
       "       [  1.37559040e+10,   1.37189365e+10,   1.36820190e+10, ...,\n",
       "          7.41148400e+09,   7.38441647e+09,   7.35739895e+09],\n",
       "       ..., \n",
       "       [  3.52047691e+09,   3.53910663e+09,   3.55778635e+09, ...,\n",
       "          8.18431173e+09,   8.21284145e+09,   8.24142117e+09],\n",
       "       [  4.14407584e+09,   4.16429405e+09,   4.18456227e+09, ...,\n",
       "          9.12243223e+09,   9.15255044e+09,   9.18271866e+09],\n",
       "       [  4.81856587e+09,   4.84037257e+09,   4.86222928e+09, ...,\n",
       "          1.01114438e+10,   1.01431505e+10,   1.01749072e+10]])"
      ]
     },
     "execution_count": 4,
     "metadata": {},
     "output_type": "execute_result"
    }
   ],
   "source": [
    "# fig = plt.figure()\n",
    "# ax = fig.gca(projection='3d') # get current axis\n",
    "\n",
    "def get_y(w0, w1, x):\n",
    "    return w0 + w1*x\n",
    "\n",
    "def get_error(w0, w1):\n",
    "    return sum(map(lambda x, y: (y - get_y(w0, w1, x)) ** 2, data.Weight, data.Height))\n",
    "\n",
    "# fig = plt.figure()\n",
    "# fig.set_size_inches(13.5, 7.5)\n",
    "# ax = fig.gca(projection='3d') # get current axis\n",
    "\n",
    "# Создаем массивы NumPy с координатами точек по осям X и У. \n",
    "# Используем метод meshgrid, при котором по векторам координат \n",
    "# создается матрица координат. Задаем нужную функцию Z(x, y).\n",
    "W0 = np.arange(-100, 101, 1)\n",
    "W1 = np.arange(-5, 5, 0.25)\n",
    "W0, W1 = np.meshgrid(W0, W1)\n",
    "ERR = get_error(W0, W1)\n",
    "\n",
    "# # Наконец, используем метод *plot_surface* объекта \n",
    "# # типа Axes3DSubplot. Также подписываем оси.\n",
    "# surf = ax.plot_surface(W0, W1, ERR)\n",
    "# ax.set_xlabel('Intercept')\n",
    "# ax.set_ylabel('Slope')\n",
    "# ax.set_zlabel('Error')\n",
    "\n",
    "# plt.show()\n",
    "\n",
    "ERR"
   ]
  },
  {
   "cell_type": "code",
   "execution_count": null,
   "metadata": {
    "collapsed": true
   },
   "outputs": [],
   "source": []
  }
 ],
 "metadata": {
  "kernelspec": {
   "display_name": "Python 2",
   "language": "python",
   "name": "python2"
  },
  "language_info": {
   "codemirror_mode": {
    "name": "ipython",
    "version": 2
   },
   "file_extension": ".py",
   "mimetype": "text/x-python",
   "name": "python",
   "nbconvert_exporter": "python",
   "pygments_lexer": "ipython2",
   "version": "2.7.11"
  }
 },
 "nbformat": 4,
 "nbformat_minor": 0
}
